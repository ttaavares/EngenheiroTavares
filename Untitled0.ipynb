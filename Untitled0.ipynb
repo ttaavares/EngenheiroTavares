{
  "nbformat": 4,
  "nbformat_minor": 0,
  "metadata": {
    "colab": {
      "provenance": [],
      "authorship_tag": "ABX9TyOe4/RUMlb4QPG5nBvmk0/m",
      "include_colab_link": true
    },
    "kernelspec": {
      "name": "python3",
      "display_name": "Python 3"
    },
    "language_info": {
      "name": "python"
    }
  },
  "cells": [
    {
      "cell_type": "markdown",
      "metadata": {
        "id": "view-in-github",
        "colab_type": "text"
      },
      "source": [
        "<a href=\"https://colab.research.google.com/github/ttaavares/EngenheiroTavares/blob/main/Untitled0.ipynb\" target=\"_parent\"><img src=\"https://colab.research.google.com/assets/colab-badge.svg\" alt=\"Open In Colab\"/></a>"
      ]
    },
    {
      "cell_type": "code",
      "source": [
        "\n",
        "# Solicita ao usuário que insira um valor inteiro\n",
        "x = int(input(\"Digite um valor inteiro: \"))\n",
        "\n",
        "# Calcula o resto da divisão de x por 3\n",
        "r = x % 3\n",
        "\n",
        "# Verifica se o resto é igual a 0\n",
        "if r == 0:\n",
        "    print(\"Múltiplo\")\n",
        "else:\n",
        "    print(\"Não múltiplo\")\n",
        "\n"
      ],
      "metadata": {
        "colab": {
          "base_uri": "https://localhost:8080/"
        },
        "id": "No_tXsWLLAoI",
        "outputId": "d3f96a84-89de-49c7-f94a-48cefb40500b"
      },
      "execution_count": 10,
      "outputs": [
        {
          "output_type": "stream",
          "name": "stdout",
          "text": [
            "Digite um valor inteiro: 53\n",
            "Não múltiplo\n"
          ]
        }
      ]
    },
    {
      "cell_type": "code",
      "source": [
        "# Função para calcular a média ponderada e verificar aprovação\n",
        "def calcular_media_ponderada(a, b):\n",
        "    peso_a = 2\n",
        "    peso_b = 3\n",
        "    media_ponderada = (a * peso_a + b * peso_b) / (peso_a + peso_b)\n",
        "\n",
        "    # Exibir a média ponderada\n",
        "    print(f\"Média Ponderada: {media_ponderada:.2f}\")\n",
        "\n",
        "    # Verificar se o aluno foi aprovado\n",
        "    if media_ponderada >= 5:\n",
        "        print(\"Aluno aprovado.\")\n",
        "    else:\n",
        "        print(\"Aluno reprovado.\")\n",
        "\n",
        "# Leitura das notas\n",
        "nota_a = float(input(\"Digite a nota a: \"))\n",
        "nota_b = float(input(\"Digite a nota b: \"))\n",
        "\n",
        "# Chama a função com as notas fornecidas\n",
        "calcular_media_ponderada(nota_a, nota_b)\n",
        "\n"
      ],
      "metadata": {
        "colab": {
          "base_uri": "https://localhost:8080/"
        },
        "id": "wIbPBdQzMb_N",
        "outputId": "600bb791-397c-43c7-982f-bafba08f1589"
      },
      "execution_count": 14,
      "outputs": [
        {
          "output_type": "stream",
          "name": "stdout",
          "text": [
            "Digite a nota a: 8\n",
            "Digite a nota b: 1\n",
            "Média Ponderada: 3.80\n",
            "Aluno reprovado.\n"
          ]
        }
      ]
    },
    {
      "cell_type": "code",
      "source": [
        "# Função para encontrar o menor valor entre três números\n",
        "def encontrar_menor_valor(a, b, c):\n",
        "    if a <= b and a <= c:\n",
        "        menor = a\n",
        "    elif b <= a and b <= c:\n",
        "        menor = b\n",
        "    else:\n",
        "        menor = c\n",
        "\n",
        "    # Exibir o menor valor\n",
        "    print(f\"O menor valor é: {menor}\")\n",
        "\n",
        "# Leitura dos três valores\n",
        "valor_a = float(input(\"Digite o valor a: \"))\n",
        "valor_b = float(input(\"Digite o valor b: \"))\n",
        "valor_c = float(input(\"Digite o valor c: \"))\n",
        "\n",
        "# Chama a função com os valores fornecidos\n",
        "encontrar_menor_valor(valor_a, valor_b, valor_c)\n"
      ],
      "metadata": {
        "colab": {
          "base_uri": "https://localhost:8080/"
        },
        "id": "69zuwnohOTNQ",
        "outputId": "b116f12a-521e-4167-fdcd-344570039993"
      },
      "execution_count": 12,
      "outputs": [
        {
          "output_type": "stream",
          "name": "stdout",
          "text": [
            "Digite o valor a: 5\n",
            "Digite o valor b: 8\n",
            "Digite o valor c: 7\n",
            "O menor valor é: 5.0\n"
          ]
        }
      ]
    }
  ]
}